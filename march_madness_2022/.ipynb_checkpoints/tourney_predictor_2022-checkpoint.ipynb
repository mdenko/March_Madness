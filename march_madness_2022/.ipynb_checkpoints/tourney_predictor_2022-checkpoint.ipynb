{
 "cells": [
  {
   "cell_type": "markdown",
   "metadata": {},
   "source": [
    "# Tourament Predictor"
   ]
  },
  {
   "cell_type": "markdown",
   "metadata": {},
   "source": [
    "Now, we are gonna predict the results for each game in the tourament and print the results in a pdf or png format.\n",
    "\n",
    "**Steps**\n",
    "\n",
    "(1) Import Train & Test Sets and combine with Kenpom data\n",
    "\n",
    "(2) Prepare sets for model training\n",
    "\n",
    "(3) Apply a Gradient Boosting Algorithm to predict the win probility of each potential game\n",
    "\n",
    "(4) Apply predictions to a bracket creator script that runs in R"
   ]
  },
  {
   "cell_type": "markdown",
   "metadata": {},
   "source": [
    "## Import Packages"
   ]
  },
  {
   "cell_type": "code",
   "execution_count": 1,
   "metadata": {
    "_cell_guid": "b1076dfc-b9ad-4769-8c92-a6c4dae69d19",
    "_uuid": "8f2839f25d086af736a60e9eeb907d3b93b6e0e5"
   },
   "outputs": [],
   "source": [
    "import numpy as np\n",
    "import pandas as pd\n",
    "from sklearn.experimental import enable_hist_gradient_boosting\n",
    "from sklearn.ensemble import HistGradientBoostingRegressor, HistGradientBoostingClassifier\n",
    "from sklearn.model_selection import KFold, GroupKFold\n",
    "from sklearn.metrics import log_loss, accuracy_score\n",
    "from tqdm.notebook import tqdm\n",
    "import glob\n",
    "import os\n",
    "import gc\n",
    "from rpy2 import robjects\n",
    "import PyPDF2\n",
    "import cv2\n",
    "import matplotlib.pyplot as plt\n",
    "plt.rcParams[\"figure.figsize\"] = (40,40)"
   ]
  },
  {
   "cell_type": "markdown",
   "metadata": {},
   "source": [
    "## Set Path, Import Datasets, & Merge with Kenpom"
   ]
  },
  {
   "cell_type": "markdown",
   "metadata": {},
   "source": [
    "Make sure to update the PATH to wherever your files are located"
   ]
  },
  {
   "cell_type": "code",
   "execution_count": 3,
   "metadata": {},
   "outputs": [
    {
     "name": "stdout",
     "output_type": "stream",
     "text": [
      "/Users/matthewdenko/Documents/March_Madness_Predictions/March_Madness/march_madness_2021\n"
     ]
    }
   ],
   "source": [
    "# Set Path\n",
    "PATH = \"/Users/matthewdenko/Documents/March_Madness_Predictions/March_Madness/march_madness_2021\"\n",
    "os.chdir(PATH)\n",
    "print(os.getcwd())\n",
    "\n",
    "# Loading Datasets\n",
    "train = pd.read_csv(\"inputs/tourney.csv\")\n",
    "test = pd.read_csv('inputs/test.csv')\n",
    "kenpom = pd.read_csv('inputs/kenpom.csv')\n",
    "kenpom = kenpom.drop(['team'],axis = 1)"
   ]
  },
  {
   "cell_type": "code",
   "execution_count": 4,
   "metadata": {},
   "outputs": [
    {
     "data": {
      "text/html": [
       "<div>\n",
       "<style scoped>\n",
       "    .dataframe tbody tr th:only-of-type {\n",
       "        vertical-align: middle;\n",
       "    }\n",
       "\n",
       "    .dataframe tbody tr th {\n",
       "        vertical-align: top;\n",
       "    }\n",
       "\n",
       "    .dataframe thead th {\n",
       "        text-align: right;\n",
       "    }\n",
       "</style>\n",
       "<table border=\"1\" class=\"dataframe\">\n",
       "  <thead>\n",
       "    <tr style=\"text-align: right;\">\n",
       "      <th></th>\n",
       "      <th>Season</th>\n",
       "      <th>TeamID1</th>\n",
       "      <th>TeamID2</th>\n",
       "      <th>result</th>\n",
       "      <th>win_pct_A_1</th>\n",
       "      <th>win_pct_N_1</th>\n",
       "      <th>win_pct_H_1</th>\n",
       "      <th>win_pct_All_1</th>\n",
       "      <th>win_pct_A_2</th>\n",
       "      <th>win_pct_N_2</th>\n",
       "      <th>...</th>\n",
       "      <th>luck_rank_y</th>\n",
       "      <th>sos_pyth_y</th>\n",
       "      <th>sos_pyth_rank_y</th>\n",
       "      <th>sos_oppo_y</th>\n",
       "      <th>sos_oppo_rank_y</th>\n",
       "      <th>sos_oppd_y</th>\n",
       "      <th>sos_oppd_rank_y</th>\n",
       "      <th>ncsos_pyth_y</th>\n",
       "      <th>ncsos_pyth_rank_y</th>\n",
       "      <th>teamid_x_y</th>\n",
       "    </tr>\n",
       "  </thead>\n",
       "  <tbody>\n",
       "    <tr>\n",
       "      <td>0</td>\n",
       "      <td>2003</td>\n",
       "      <td>1421</td>\n",
       "      <td>1411</td>\n",
       "      <td>1</td>\n",
       "      <td>0.125000</td>\n",
       "      <td>1.00</td>\n",
       "      <td>0.833333</td>\n",
       "      <td>0.448276</td>\n",
       "      <td>0.333333</td>\n",
       "      <td>0.75</td>\n",
       "      <td>...</td>\n",
       "      <td>75</td>\n",
       "      <td>-12.96</td>\n",
       "      <td>321</td>\n",
       "      <td>94.4</td>\n",
       "      <td>322</td>\n",
       "      <td>107.4</td>\n",
       "      <td>314</td>\n",
       "      <td>-8.09</td>\n",
       "      <td>308</td>\n",
       "      <td>1411.0</td>\n",
       "    </tr>\n",
       "    <tr>\n",
       "      <td>16</td>\n",
       "      <td>2003</td>\n",
       "      <td>1112</td>\n",
       "      <td>1436</td>\n",
       "      <td>1</td>\n",
       "      <td>0.916667</td>\n",
       "      <td>0.00</td>\n",
       "      <td>0.933333</td>\n",
       "      <td>0.892857</td>\n",
       "      <td>0.500000</td>\n",
       "      <td>0.60</td>\n",
       "      <td>...</td>\n",
       "      <td>119</td>\n",
       "      <td>-5.14</td>\n",
       "      <td>251</td>\n",
       "      <td>99.3</td>\n",
       "      <td>249</td>\n",
       "      <td>104.4</td>\n",
       "      <td>245</td>\n",
       "      <td>-2.29</td>\n",
       "      <td>213</td>\n",
       "      <td>1436.0</td>\n",
       "    </tr>\n",
       "    <tr>\n",
       "      <td>17</td>\n",
       "      <td>2003</td>\n",
       "      <td>1113</td>\n",
       "      <td>1272</td>\n",
       "      <td>1</td>\n",
       "      <td>0.400000</td>\n",
       "      <td>0.50</td>\n",
       "      <td>0.800000</td>\n",
       "      <td>0.620690</td>\n",
       "      <td>0.636364</td>\n",
       "      <td>1.00</td>\n",
       "      <td>...</td>\n",
       "      <td>151</td>\n",
       "      <td>4.83</td>\n",
       "      <td>84</td>\n",
       "      <td>103.4</td>\n",
       "      <td>133</td>\n",
       "      <td>98.6</td>\n",
       "      <td>54</td>\n",
       "      <td>3.33</td>\n",
       "      <td>81</td>\n",
       "      <td>1272.0</td>\n",
       "    </tr>\n",
       "    <tr>\n",
       "      <td>18</td>\n",
       "      <td>2003</td>\n",
       "      <td>1141</td>\n",
       "      <td>1166</td>\n",
       "      <td>1</td>\n",
       "      <td>0.642857</td>\n",
       "      <td>1.00</td>\n",
       "      <td>0.916667</td>\n",
       "      <td>0.793103</td>\n",
       "      <td>0.636364</td>\n",
       "      <td>1.00</td>\n",
       "      <td>...</td>\n",
       "      <td>99</td>\n",
       "      <td>-0.19</td>\n",
       "      <td>155</td>\n",
       "      <td>102.5</td>\n",
       "      <td>159</td>\n",
       "      <td>102.7</td>\n",
       "      <td>168</td>\n",
       "      <td>-0.51</td>\n",
       "      <td>164</td>\n",
       "      <td>1166.0</td>\n",
       "    </tr>\n",
       "    <tr>\n",
       "      <td>22</td>\n",
       "      <td>2003</td>\n",
       "      <td>1143</td>\n",
       "      <td>1301</td>\n",
       "      <td>1</td>\n",
       "      <td>0.636364</td>\n",
       "      <td>0.25</td>\n",
       "      <td>0.928571</td>\n",
       "      <td>0.724138</td>\n",
       "      <td>0.300000</td>\n",
       "      <td>0.50</td>\n",
       "      <td>...</td>\n",
       "      <td>223</td>\n",
       "      <td>8.48</td>\n",
       "      <td>34</td>\n",
       "      <td>106.9</td>\n",
       "      <td>22</td>\n",
       "      <td>98.4</td>\n",
       "      <td>49</td>\n",
       "      <td>-6.48</td>\n",
       "      <td>292</td>\n",
       "      <td>1301.0</td>\n",
       "    </tr>\n",
       "  </tbody>\n",
       "</table>\n",
       "<p>5 rows × 117 columns</p>\n",
       "</div>"
      ],
      "text/plain": [
       "    Season  TeamID1  TeamID2  result  win_pct_A_1  win_pct_N_1  win_pct_H_1  \\\n",
       "0     2003     1421     1411       1     0.125000         1.00     0.833333   \n",
       "16    2003     1112     1436       1     0.916667         0.00     0.933333   \n",
       "17    2003     1113     1272       1     0.400000         0.50     0.800000   \n",
       "18    2003     1141     1166       1     0.642857         1.00     0.916667   \n",
       "22    2003     1143     1301       1     0.636364         0.25     0.928571   \n",
       "\n",
       "    win_pct_All_1  win_pct_A_2  win_pct_N_2  ...  luck_rank_y  sos_pyth_y  \\\n",
       "0        0.448276     0.333333         0.75  ...           75      -12.96   \n",
       "16       0.892857     0.500000         0.60  ...          119       -5.14   \n",
       "17       0.620690     0.636364         1.00  ...          151        4.83   \n",
       "18       0.793103     0.636364         1.00  ...           99       -0.19   \n",
       "22       0.724138     0.300000         0.50  ...          223        8.48   \n",
       "\n",
       "    sos_pyth_rank_y  sos_oppo_y  sos_oppo_rank_y  sos_oppd_y  sos_oppd_rank_y  \\\n",
       "0               321        94.4              322       107.4              314   \n",
       "16              251        99.3              249       104.4              245   \n",
       "17               84       103.4              133        98.6               54   \n",
       "18              155       102.5              159       102.7              168   \n",
       "22               34       106.9               22        98.4               49   \n",
       "\n",
       "    ncsos_pyth_y  ncsos_pyth_rank_y  teamid_x_y  \n",
       "0          -8.09                308      1411.0  \n",
       "16         -2.29                213      1436.0  \n",
       "17          3.33                 81      1272.0  \n",
       "18         -0.51                164      1166.0  \n",
       "22         -6.48                292      1301.0  \n",
       "\n",
       "[5 rows x 117 columns]"
      ]
     },
     "execution_count": 4,
     "metadata": {},
     "output_type": "execute_result"
    }
   ],
   "source": [
    "# Merging train with Kenpom\n",
    "train = train.merge(kenpom, how='left', left_on=['Season','TeamID1'],right_on=['year','teamid_x'])\n",
    "train = train.merge(kenpom, how='left', left_on=['Season','TeamID2'],right_on=['year','teamid_x'])\n",
    "train = train.drop_duplicates()\n",
    "train.head()"
   ]
  },
  {
   "cell_type": "code",
   "execution_count": 5,
   "metadata": {},
   "outputs": [
    {
     "data": {
      "text/html": [
       "<div>\n",
       "<style scoped>\n",
       "    .dataframe tbody tr th:only-of-type {\n",
       "        vertical-align: middle;\n",
       "    }\n",
       "\n",
       "    .dataframe tbody tr th {\n",
       "        vertical-align: top;\n",
       "    }\n",
       "\n",
       "    .dataframe thead th {\n",
       "        text-align: right;\n",
       "    }\n",
       "</style>\n",
       "<table border=\"1\" class=\"dataframe\">\n",
       "  <thead>\n",
       "    <tr style=\"text-align: right;\">\n",
       "      <th></th>\n",
       "      <th>ID</th>\n",
       "      <th>Season</th>\n",
       "      <th>TeamID1</th>\n",
       "      <th>TeamID2</th>\n",
       "      <th>win_pct_A_1</th>\n",
       "      <th>win_pct_N_1</th>\n",
       "      <th>win_pct_H_1</th>\n",
       "      <th>win_pct_All_1</th>\n",
       "      <th>win_pct_A_2</th>\n",
       "      <th>win_pct_N_2</th>\n",
       "      <th>...</th>\n",
       "      <th>luck_rank_y</th>\n",
       "      <th>sos_pyth_y</th>\n",
       "      <th>sos_pyth_rank_y</th>\n",
       "      <th>sos_oppo_y</th>\n",
       "      <th>sos_oppo_rank_y</th>\n",
       "      <th>sos_oppd_y</th>\n",
       "      <th>sos_oppd_rank_y</th>\n",
       "      <th>ncsos_pyth_y</th>\n",
       "      <th>ncsos_pyth_rank_y</th>\n",
       "      <th>teamid_x_y</th>\n",
       "    </tr>\n",
       "  </thead>\n",
       "  <tbody>\n",
       "    <tr>\n",
       "      <td>0</td>\n",
       "      <td>2021_1101_1104</td>\n",
       "      <td>2021</td>\n",
       "      <td>1101</td>\n",
       "      <td>1104</td>\n",
       "      <td>0.555556</td>\n",
       "      <td>1.0</td>\n",
       "      <td>1.0</td>\n",
       "      <td>0.826087</td>\n",
       "      <td>0.700000</td>\n",
       "      <td>0.714286</td>\n",
       "      <td>...</td>\n",
       "      <td>107</td>\n",
       "      <td>14.24</td>\n",
       "      <td>27</td>\n",
       "      <td>109.8</td>\n",
       "      <td>28</td>\n",
       "      <td>95.5</td>\n",
       "      <td>32</td>\n",
       "      <td>8.92</td>\n",
       "      <td>69</td>\n",
       "      <td>1104.0</td>\n",
       "    </tr>\n",
       "    <tr>\n",
       "      <td>4</td>\n",
       "      <td>2021_1101_1111</td>\n",
       "      <td>2021</td>\n",
       "      <td>1101</td>\n",
       "      <td>1111</td>\n",
       "      <td>0.555556</td>\n",
       "      <td>1.0</td>\n",
       "      <td>1.0</td>\n",
       "      <td>0.826087</td>\n",
       "      <td>0.363636</td>\n",
       "      <td>1.000000</td>\n",
       "      <td>...</td>\n",
       "      <td>52</td>\n",
       "      <td>-2.96</td>\n",
       "      <td>231</td>\n",
       "      <td>100.2</td>\n",
       "      <td>249</td>\n",
       "      <td>103.2</td>\n",
       "      <td>220</td>\n",
       "      <td>5.65</td>\n",
       "      <td>113</td>\n",
       "      <td>1111.0</td>\n",
       "    </tr>\n",
       "    <tr>\n",
       "      <td>8</td>\n",
       "      <td>2021_1101_1116</td>\n",
       "      <td>2021</td>\n",
       "      <td>1101</td>\n",
       "      <td>1116</td>\n",
       "      <td>0.555556</td>\n",
       "      <td>1.0</td>\n",
       "      <td>1.0</td>\n",
       "      <td>0.826087</td>\n",
       "      <td>0.555556</td>\n",
       "      <td>0.500000</td>\n",
       "      <td>...</td>\n",
       "      <td>56</td>\n",
       "      <td>11.23</td>\n",
       "      <td>60</td>\n",
       "      <td>108.2</td>\n",
       "      <td>56</td>\n",
       "      <td>97.0</td>\n",
       "      <td>69</td>\n",
       "      <td>-5.27</td>\n",
       "      <td>282</td>\n",
       "      <td>1116.0</td>\n",
       "    </tr>\n",
       "    <tr>\n",
       "      <td>12</td>\n",
       "      <td>2021_1101_1124</td>\n",
       "      <td>2021</td>\n",
       "      <td>1101</td>\n",
       "      <td>1124</td>\n",
       "      <td>0.555556</td>\n",
       "      <td>1.0</td>\n",
       "      <td>1.0</td>\n",
       "      <td>0.826087</td>\n",
       "      <td>0.875000</td>\n",
       "      <td>0.800000</td>\n",
       "      <td>...</td>\n",
       "      <td>68</td>\n",
       "      <td>9.59</td>\n",
       "      <td>79</td>\n",
       "      <td>106.5</td>\n",
       "      <td>90</td>\n",
       "      <td>96.9</td>\n",
       "      <td>66</td>\n",
       "      <td>-4.17</td>\n",
       "      <td>270</td>\n",
       "      <td>1124.0</td>\n",
       "    </tr>\n",
       "    <tr>\n",
       "      <td>16</td>\n",
       "      <td>2021_1101_1140</td>\n",
       "      <td>2021</td>\n",
       "      <td>1101</td>\n",
       "      <td>1140</td>\n",
       "      <td>0.555556</td>\n",
       "      <td>1.0</td>\n",
       "      <td>1.0</td>\n",
       "      <td>0.826087</td>\n",
       "      <td>0.777778</td>\n",
       "      <td>0.600000</td>\n",
       "      <td>...</td>\n",
       "      <td>83</td>\n",
       "      <td>10.20</td>\n",
       "      <td>74</td>\n",
       "      <td>107.9</td>\n",
       "      <td>65</td>\n",
       "      <td>97.7</td>\n",
       "      <td>87</td>\n",
       "      <td>8.66</td>\n",
       "      <td>74</td>\n",
       "      <td>1140.0</td>\n",
       "    </tr>\n",
       "  </tbody>\n",
       "</table>\n",
       "<p>5 rows × 117 columns</p>\n",
       "</div>"
      ],
      "text/plain": [
       "                ID  Season  TeamID1  TeamID2  win_pct_A_1  win_pct_N_1  \\\n",
       "0   2021_1101_1104    2021     1101     1104     0.555556          1.0   \n",
       "4   2021_1101_1111    2021     1101     1111     0.555556          1.0   \n",
       "8   2021_1101_1116    2021     1101     1116     0.555556          1.0   \n",
       "12  2021_1101_1124    2021     1101     1124     0.555556          1.0   \n",
       "16  2021_1101_1140    2021     1101     1140     0.555556          1.0   \n",
       "\n",
       "    win_pct_H_1  win_pct_All_1  win_pct_A_2  win_pct_N_2  ...  luck_rank_y  \\\n",
       "0           1.0       0.826087     0.700000     0.714286  ...          107   \n",
       "4           1.0       0.826087     0.363636     1.000000  ...           52   \n",
       "8           1.0       0.826087     0.555556     0.500000  ...           56   \n",
       "12          1.0       0.826087     0.875000     0.800000  ...           68   \n",
       "16          1.0       0.826087     0.777778     0.600000  ...           83   \n",
       "\n",
       "    sos_pyth_y  sos_pyth_rank_y  sos_oppo_y  sos_oppo_rank_y  sos_oppd_y  \\\n",
       "0        14.24               27       109.8               28        95.5   \n",
       "4        -2.96              231       100.2              249       103.2   \n",
       "8        11.23               60       108.2               56        97.0   \n",
       "12        9.59               79       106.5               90        96.9   \n",
       "16       10.20               74       107.9               65        97.7   \n",
       "\n",
       "    sos_oppd_rank_y  ncsos_pyth_y  ncsos_pyth_rank_y  teamid_x_y  \n",
       "0                32          8.92                 69      1104.0  \n",
       "4               220          5.65                113      1111.0  \n",
       "8                69         -5.27                282      1116.0  \n",
       "12               66         -4.17                270      1124.0  \n",
       "16               87          8.66                 74      1140.0  \n",
       "\n",
       "[5 rows x 117 columns]"
      ]
     },
     "execution_count": 5,
     "metadata": {},
     "output_type": "execute_result"
    }
   ],
   "source": [
    "# Merging test with Kenpom\n",
    "test = test.merge(kenpom, how='left', left_on=['Season','TeamID1'],right_on=['year','teamid_x'])\n",
    "test = test.merge(kenpom, how='left', left_on=['Season','TeamID2'],right_on=['year','teamid_x'])\n",
    "test = test.drop_duplicates()\n",
    "test.head()"
   ]
  },
  {
   "cell_type": "markdown",
   "metadata": {},
   "source": [
    "## Prep Data For Model Training"
   ]
  },
  {
   "cell_type": "code",
   "execution_count": 6,
   "metadata": {},
   "outputs": [],
   "source": [
    "# Setting X & Y for test\n",
    "y = train[\"result\"]\n",
    "s = train[\"Season\"]\n",
    "X = train.drop(['Season','TeamID1','TeamID2','result','teamid_x_y'], axis=1)\n",
    "\n",
    "\n",
    "X_test = test.drop(['ID', 'Season','TeamID1','TeamID2','teamid_x_y'], axis=1)\n",
    "\n"
   ]
  },
  {
   "cell_type": "code",
   "execution_count": 7,
   "metadata": {},
   "outputs": [
    {
     "data": {
      "text/plain": [
       "(2230,)"
      ]
     },
     "execution_count": 7,
     "metadata": {},
     "output_type": "execute_result"
    }
   ],
   "source": [
    "# Shaping data\n",
    "train_oof = np.zeros((X.shape[0],))\n",
    "test_preds = 0\n",
    "train_oof.shape"
   ]
  },
  {
   "cell_type": "markdown",
   "metadata": {},
   "source": [
    "## Train and Execute Model"
   ]
  },
  {
   "cell_type": "markdown",
   "metadata": {},
   "source": [
    "We are gonna train a Gradient Boosting Algorithm from sklearn. It is Histogram-based Gradient Boosting Classification Tree.\n",
    "\n",
    "Gradient boosting classifiers are a group of machine learning algorithms that combine many weak learning models together to create a strong predictive model. \n",
    "\n",
    "The objective of Gradient Boosting classifiers is to minimize the loss, or the difference between the actual class value of the training example and the predicted class value. "
   ]
  },
  {
   "cell_type": "code",
   "execution_count": 8,
   "metadata": {},
   "outputs": [
    {
     "data": {
      "application/vnd.jupyter.widget-view+json": {
       "model_id": "85ac6d6a95a541cf88b8ef2691dc978d",
       "version_major": 2,
       "version_minor": 0
      },
      "text/plain": [
       "HBox(children=(IntProgress(value=1, bar_style='info', max=1), HTML(value='')))"
      ]
     },
     "metadata": {},
     "output_type": "display_data"
    },
    {
     "name": "stdout",
     "output_type": "stream",
     "text": [
      "0.4292334363415474\n",
      "0.47525227469372716\n",
      "0.5149112457231706\n",
      "0.48030680082038757\n",
      "0.5005102753812641\n",
      "0.551239668445431\n",
      "0.4730464558176283\n",
      "0.4895087440648799\n",
      "0.4673646702328737\n",
      "0.4819779205547785\n",
      "\n"
     ]
    }
   ],
   "source": [
    "# Setting Model Parameters\n",
    "NUM_FOLDS = 10\n",
    "kf = GroupKFold(n_splits=NUM_FOLDS)\n",
    "max_iter = 550\n",
    "\n",
    "# Training and running model predictions\n",
    "for f, (train_ind, val_ind) in tqdm(enumerate(kf.split(X, y, s))):\n",
    "        #print(f'Fold {f}')\n",
    "        train_df, val_df = X.iloc[train_ind], X.iloc[val_ind]\n",
    "        train_target, val_target = y.iloc[train_ind], y.iloc[val_ind]\n",
    "        \n",
    "        \n",
    "        model = HistGradientBoostingClassifier(max_iter=max_iter, validation_fraction=None, learning_rate=0.01, max_depth=2, min_samples_leaf=32)\n",
    "        \n",
    "\n",
    "        model =  model.fit(train_df, train_target)\n",
    "        temp_oof = model.predict_proba(val_df)[:,1]\n",
    "        temp_test = model.predict_proba(X_test)[:,1]\n",
    "\n",
    "        train_oof[val_ind] = temp_oof\n",
    "        test_preds += temp_test/NUM_FOLDS\n",
    "        \n",
    "        print(log_loss(val_target, temp_oof))"
   ]
  },
  {
   "cell_type": "markdown",
   "metadata": {},
   "source": [
    "## Evaluate Model Performance Measures"
   ]
  },
  {
   "cell_type": "code",
   "execution_count": 9,
   "metadata": {},
   "outputs": [
    {
     "name": "stdout",
     "output_type": "stream",
     "text": [
      "Logg Loss: 0.49\n",
      "\n",
      "Accuracy Score: 0.79\n"
     ]
    }
   ],
   "source": [
    "# Evaluating Log Loss and Accuracy\n",
    "y_preds = model.predict(X)\n",
    "loss = log_loss(y, train_oof)\n",
    "acc = accuracy_score(y,y_preds)\n",
    "\n",
    "print(\"Logg Loss:\", f'{loss:,.2f}')\n",
    "print(\"\\nAccuracy Score:\", f'{acc:,.2f}')"
   ]
  },
  {
   "cell_type": "markdown",
   "metadata": {},
   "source": [
    "The model performance is pretty good. An accuracy score of 80% is very high and the log loss is relatively low as well. Next we are gonna export the predictions for 2021 and see how the bracket looks!"
   ]
  },
  {
   "cell_type": "code",
   "execution_count": 10,
   "metadata": {},
   "outputs": [],
   "source": [
    "# Saving Probabilities\n",
    "np.save('train_oof', train_oof)\n",
    "np.save('test_preds', test_preds)"
   ]
  },
  {
   "cell_type": "markdown",
   "metadata": {},
   "source": [
    "## Export Kaggle Submission File"
   ]
  },
  {
   "cell_type": "code",
   "execution_count": 11,
   "metadata": {},
   "outputs": [],
   "source": [
    "# Reading in 2021 data\n",
    "test = pd.read_csv('inputs/test.csv')\n",
    "MSampleSubmission = pd.read_csv('inputs/MSampleSubmissionStage2.csv')"
   ]
  },
  {
   "cell_type": "code",
   "execution_count": 12,
   "metadata": {},
   "outputs": [
    {
     "data": {
      "text/html": [
       "<div>\n",
       "<style scoped>\n",
       "    .dataframe tbody tr th:only-of-type {\n",
       "        vertical-align: middle;\n",
       "    }\n",
       "\n",
       "    .dataframe tbody tr th {\n",
       "        vertical-align: top;\n",
       "    }\n",
       "\n",
       "    .dataframe thead th {\n",
       "        text-align: right;\n",
       "    }\n",
       "</style>\n",
       "<table border=\"1\" class=\"dataframe\">\n",
       "  <thead>\n",
       "    <tr style=\"text-align: right;\">\n",
       "      <th></th>\n",
       "      <th>ID</th>\n",
       "      <th>Pred</th>\n",
       "    </tr>\n",
       "  </thead>\n",
       "  <tbody>\n",
       "    <tr>\n",
       "      <td>0</td>\n",
       "      <td>2021_1101_1104</td>\n",
       "      <td>0.084535</td>\n",
       "    </tr>\n",
       "    <tr>\n",
       "      <td>1</td>\n",
       "      <td>2021_1101_1111</td>\n",
       "      <td>0.644102</td>\n",
       "    </tr>\n",
       "    <tr>\n",
       "      <td>2</td>\n",
       "      <td>2021_1101_1116</td>\n",
       "      <td>0.103374</td>\n",
       "    </tr>\n",
       "    <tr>\n",
       "      <td>3</td>\n",
       "      <td>2021_1101_1124</td>\n",
       "      <td>0.083395</td>\n",
       "    </tr>\n",
       "    <tr>\n",
       "      <td>4</td>\n",
       "      <td>2021_1101_1140</td>\n",
       "      <td>0.110173</td>\n",
       "    </tr>\n",
       "  </tbody>\n",
       "</table>\n",
       "</div>"
      ],
      "text/plain": [
       "               ID      Pred\n",
       "0  2021_1101_1104  0.084535\n",
       "1  2021_1101_1111  0.644102\n",
       "2  2021_1101_1116  0.103374\n",
       "3  2021_1101_1124  0.083395\n",
       "4  2021_1101_1140  0.110173"
      ]
     },
     "execution_count": 12,
     "metadata": {},
     "output_type": "execute_result"
    }
   ],
   "source": [
    "# Shaping Predictions for submission file\n",
    "idx = test_preds.shape[0] //2\n",
    "test_preds[idx:] = 1 - test_preds[idx:]\n",
    "\n",
    "pred = pd.concat([test.ID, pd.Series(test_preds)], axis=1).groupby('ID')[0]\\\n",
    "        .mean().reset_index().rename(columns={0:'Pred'})\n",
    "sub = MSampleSubmission.drop(['Pred'],axis=1).merge(pred, on='ID')\n",
    "sub.to_csv('outputs/submission2.csv', index=False)\n",
    "sub.head()\n"
   ]
  },
  {
   "cell_type": "markdown",
   "metadata": {},
   "source": [
    "## Export Predictions to Bracket PDF"
   ]
  },
  {
   "cell_type": "markdown",
   "metadata": {},
   "source": [
    "- Executing R Script to print Bracket PDF\n",
    "- Requires R to be installed on you machine\n",
    "- Update PATH manually in png and pdf files below"
   ]
  },
  {
   "cell_type": "code",
   "execution_count": 16,
   "metadata": {},
   "outputs": [
    {
     "data": {
      "text/html": [
       "\n",
       "        <span>IntVector with 1 elements.</span>\n",
       "        <table>\n",
       "        <tbody>\n",
       "          <tr>\n",
       "          \n",
       "            <td>\n",
       "            1\n",
       "            </td>\n",
       "          \n",
       "          </tr>\n",
       "        </tbody>\n",
       "        </table>\n",
       "        "
      ],
      "text/plain": [
       "<rpy2.robjects.vectors.IntVector object at 0x1a2978fd70> [RTYPES.INTSXP]\n",
       "R classes: ('integer',)\n",
       "[1]"
      ]
     },
     "execution_count": 16,
     "metadata": {},
     "output_type": "execute_result"
    }
   ],
   "source": [
    "robjects.r('''\n",
    "...            #! /usr/bin/Rscript\n",
    "...            png('/Users/matthewdenko/Documents/March_Madness_Predictions/March_Madness/march_madness_2021/outputs/bracket_results.png')\n",
    "...            library(collegehoops)\n",
    "...            options(repr.plot.width = 50, repr.plot.height = 40)\n",
    "...            bracket = collegehoops::parse_bracket('/Users/matthewdenko/Documents/march_madness_2021/outputs/submission2.csv', year = '2021')\n",
    "...            collegehoops::print_bracket(bracket)\n",
    "...            dev.off()         \n",
    "''')\n",
    "\n",
    "robjects.r('''\n",
    "...            #! /usr/bin/Rscript\n",
    "...            pdf('/Users/matthewdenko/Documents/March_Madness_Predictions/March_Madness/march_madness_2021/outputs/bracket_results.pdf')\n",
    "...            library(collegehoops)\n",
    "...            options(repr.plot.width = 50, repr.plot.height = 40)\n",
    "...            bracket = collegehoops::parse_bracket('/Users/matthewdenko/Documents/march_madness_2021/outputs/submission2.csv', year = '2021')\n",
    "...            collegehoops::print_bracket(bracket)\n",
    "...            dev.off()         \n",
    "''')"
   ]
  },
  {
   "cell_type": "code",
   "execution_count": 17,
   "metadata": {},
   "outputs": [
    {
     "data": {
      "image/png": "[encoded data removed]",
      "text/plain": [
       "<Figure size 432x288 with 1 Axes>"
      ]
     },
     "metadata": {
      "needs_background": "light"
     },
     "output_type": "display_data"
    }
   ],
   "source": [
    "# Loading png and reshaping and displaying in Note book\n",
    "im = cv2.imread('outputs/bracket_results.png')\n",
    "im_resized = cv2.resize(im, (5000, 5000), interpolation=cv2.INTER_AREA)\n",
    "\n",
    "plt.imshow(cv2.cvtColor(im_resized, cv2.COLOR_BGR2RGB))\n",
    "plt.show()"
   ]
  },
  {
   "cell_type": "markdown",
   "metadata": {},
   "source": [
    "Apologies for the crappy image, I couldn't find a good way to make the picture pretty in Jupyter. Look at the attached PDF (warning: its all chalk)."
   ]
  },
  {
   "cell_type": "markdown",
   "metadata": {},
   "source": [
    "## Conclusion"
   ]
  },
  {
   "cell_type": "markdown",
   "metadata": {},
   "source": [
    "The model generated strong results for past touraments (strong accuarcy score, low log loss). However, we can't measure overfit effectively because we don't have the performance of the test set. If I had more time I would split the historical data into a train and test set to help reduce the overfit possiblity, however I wanted to submit my predictions before the tourament started. \n",
    "\n",
    "In the end the model predicted very closely to the actual tournament seeds. This is not suprising because many of the same inputs that the tourament takes into consideration when seeding is similar to the input used in this model prediction. This model is what they call in the bracket industry CHALK! There are only a few upsets, and it predicts an all 1 seed final four. However, Michigan is predicted to win it all when they are ranked as the 4th overall number 1 seed. Please do not use this model as betting advice, especially because the data I used does not take into account the injury of Isaiah livers. "
   ]
  }
 ],
 "metadata": {
  "kernelspec": {
   "display_name": "Python 3",
   "language": "python",
   "name": "python3"
  },
  "language_info": {
   "codemirror_mode": {
    "name": "ipython",
    "version": 3
   },
   "file_extension": ".py",
   "mimetype": "text/x-python",
   "name": "python",
   "nbconvert_exporter": "python",
   "pygments_lexer": "ipython3",
   "version": "3.7.4"
  }
 },
 "nbformat": 4,
 "nbformat_minor": 4
}
