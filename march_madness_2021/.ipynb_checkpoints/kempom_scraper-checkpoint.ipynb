{
 "cells": [
  {
   "cell_type": "markdown",
   "metadata": {},
   "source": [
    "Using kenpom websites to make predictions creates problem of leakage because they update their stats after the tournament end. Therefore, in this notebook, I decided to scrap kenpom data before tournament for each year. I did it between 2011 to 2021. If you find archives for earlier years please put it in comment section.\n",
    "\n",
    "Inspiration code source: https://www.kaggle.com/walterhan/scrape-kenpom-data"
   ]
  },
  {
   "cell_type": "markdown",
   "metadata": {},
   "source": [
    "# Imports"
   ]
  },
  {
   "cell_type": "code",
   "execution_count": 1,
   "metadata": {},
   "outputs": [],
   "source": [
    "import pandas as pd\n",
    "import numpy as np\n",
    "import re\n",
    "from bs4 import BeautifulSoup\n",
    "import requests\n",
    "import os"
   ]
  },
  {
   "cell_type": "markdown",
   "metadata": {},
   "source": [
    "# Scraper"
   ]
  },
  {
   "cell_type": "code",
   "execution_count": 2,
   "metadata": {
    "_cell_guid": "b1076dfc-b9ad-4769-8c92-a6c4dae69d19",
    "_uuid": "8f2839f25d086af736a60e9eeb907d3b93b6e0e5"
   },
   "outputs": [],
   "source": [
    "base_urls=[\n",
    "          'https://web.archive.org/web/20110311233233/http://www.kenpom.com/',\n",
    "          'https://web.archive.org/web/20120311165019/http://kenpom.com/',\n",
    "          'https://web.archive.org/web/20130318221134/http://kenpom.com/',\n",
    "          'https://web.archive.org/web/20140318100454/http://kenpom.com/',\n",
    "          'https://web.archive.org/web/20150316212936/http://kenpom.com/',\n",
    "          'https://web.archive.org/web/20160314134726/http://kenpom.com/',\n",
    "          'https://web.archive.org/web/20170312131016/http://kenpom.com/',\n",
    "          'https://web.archive.org/web/20180311122559/https://kenpom.com/',\n",
    "          'https://web.archive.org/web/20190317211809/https://kenpom.com/',\n",
    "            'https://kenpom.com/index.php'\n",
    "         ]\n",
    "\n",
    "def scrap_archive(url,year):\n",
    "    \"\"\"\n",
    "    Imports raw data from a kenpom archive into a dataframe\n",
    "    \"\"\"\n",
    "    \n",
    "    page = requests.get(url)\n",
    "    soup = BeautifulSoup(page.text)\n",
    "    table_full = soup.find_all('table', {'id': 'ratings-table'})\n",
    "\n",
    "    thead = table_full[0].find_all('thead')\n",
    "    table = table_full[0]\n",
    "    \n",
    "    for weird in thead:\n",
    "        table = str(table).replace(str(weird), '')\n",
    "\n",
    "    df = pd.read_html(table)[0]\n",
    "    if year==2020:\n",
    "        df['year'] = 2021\n",
    "    else:\n",
    "        df['year'] = year\n",
    "    \n",
    "    return df"
   ]
  },
  {
   "cell_type": "markdown",
   "metadata": {},
   "source": [
    "# Scraping"
   ]
  },
  {
   "cell_type": "code",
   "execution_count": 3,
   "metadata": {},
   "outputs": [],
   "source": [
    "def scraping(df,year):\n",
    "    \n",
    "    for url in base_urls:\n",
    "    \n",
    "        print(f'Scrapping: {url}')\n",
    "        archive=scrap_archive(url,year)\n",
    "        \n",
    "        df = pd.concat( (df, archive), axis=0) \n",
    "        year+=1\n",
    "    \n",
    "    df.columns = ['Rank', 'Team', 'Conference', 'W-L', 'Pyth', \n",
    "             'AdjustO', 'AdjustO Rank', 'AdjustD', 'AdjustD Rank',\n",
    "             'AdjustT', 'AdjustT Rank', 'Luck', 'Luck Rank', \n",
    "             'SOS Pyth', 'SOS Pyth Rank', 'SOS OppO', 'SOS OppO Rank',\n",
    "             'SOS OppD', 'SOS OppD Rank', 'NCSOS Pyth', 'NCSOS Pyth Rank', 'Year']\n",
    "    \n",
    "    df=df[[ 'Year', 'Team', 'AdjustO', 'AdjustD', 'Luck','Rank','Pyth']]\n",
    "    df.columns=[ 'Season', 'TeamName', 'adj_o', 'adj_d', 'luck','rank','pyth']\n",
    "\n",
    "    df.TeamName=df.TeamName.apply(lambda x: re.sub('\\d', '', x).strip()).replace('.','')\n",
    "             \n",
    "        \n",
    "    return df"
   ]
  },
  {
   "cell_type": "markdown",
   "metadata": {},
   "source": [
    "# Put TeamID"
   ]
  },
  {
   "cell_type": "code",
   "execution_count": null,
   "metadata": {},
   "outputs": [],
   "source": [
    "df = pd.DataFrame()\n",
    "year = 2002\n",
    "print(year)\n",
    "for i in range(0,18):\n",
    "    year = year + i\n",
    "    dfnew = pd.DataFrame()\n",
    "    dfnew = scraping(dfnew,year)\n",
    "    df.append(dfnew,ignore_index=True)"
   ]
  },
  {
   "cell_type": "code",
   "execution_count": null,
   "metadata": {},
   "outputs": [],
   "source": [
    "year = 2013\n",
    "for year in range (2013,2021):\n",
    "    dfnew = pd.DataFrame()\n",
    "    dfnew = scraping(dfnew,year)\n",
    "    df.append(dfnew,ignore_index=True)"
   ]
  },
  {
   "cell_type": "code",
   "execution_count": null,
   "metadata": {},
   "outputs": [],
   "source": [
    "df.TeamName=df.TeamName.apply(lambda x: x.replace('-',' '))\n",
    "df.TeamName=df.TeamName.apply(lambda x: x.lower())\n",
    "df.TeamName=df.TeamName.apply(lambda x: x.strip())\n",
    "df.TeamName=df.TeamName.replace('mississippi valley st.','mississippi valley state')\n",
    "#df.TeamName=df.TeamName.replace('texas a&m corpus chris','texas a&m corpus christi')\n",
    "df.TeamName=df.TeamName.replace('dixie st.','dixie st')\n",
    "df.TeamName=df.TeamName.replace('st. francis pa','st francis pa')\n",
    "df.TeamName=df.TeamName.replace('ut rio grande valley','texas rio grande valley')\n",
    "df.TeamName=df.TeamName.replace('southeast missouri st.','southeast missouri state')\n",
    "df.TeamName=df.TeamName.replace('tarleton st.','tarleton st')\n",
    "df.TeamName=df.TeamName.replace('liu','liu brooklyn')\n",
    "df.TeamName=df.TeamName.replace('cal st. bakersfield','cal state bakersfield')\n",
    "\n",
    "df.TeamName=df.TeamName.replace('virginia military inst','virginia military\t')\n",
    "df.TeamName=df.TeamName.replace('louisiana saint','louisiana state')\n",
    "df.TeamName=df.TeamName.replace('nj inst of technology','njit')\n",
    "\n",
    "df.TeamName=df.TeamName.replace('texas a&m corpus chris','texas a&m corpus')\n",
    "df.TeamName=df.TeamName.replace('md baltimore county','maryland baltimore county')\n",
    "#-------------------------------------------------------\n",
    "# merge with spelling file to get the TeamID\n",
    "spelling=pd.read_csv(\"/Users/matthewdenko/Documents/ncaam-march-mania-2021 (1) 2/MDataFiles_Stage2/MTeamSpellings.csv\",encoding='cp1252')\n",
    "spelling.columns=['TeamName','TeamID']\n",
    "spelling.TeamName=spelling.TeamName.apply(lambda x: x.replace('-',' '))\n",
    "df.TeamName=df.TeamName.apply(lambda x: x.strip())\n",
    "\n",
    "\n",
    "df=df.merge(spelling[['TeamName','TeamID']],on='TeamName',how='left')\n",
    "\n",
    "df.TeamName=df.TeamName.apply(lambda x: x.replace('st.','saint'))\n",
    "df.TeamName=df.TeamName.apply(lambda x: x.replace(';',''))\n",
    "df.TeamName=df.TeamName.apply(lambda x: x.replace('\\t',''))\n",
    "df.TeamName=df.TeamName.replace('texas a&m corpus chris','texas a&m corpus')\n",
    "df.TeamName=df.TeamName.replace('louisiana saint','louisiana state')\n",
    "\n",
    "df=df.merge(spelling[['TeamName','TeamID']],on='TeamName',how='left')\n",
    "\n",
    "df.TeamID_x.fillna(df.TeamID_y, inplace=True)\n",
    "\n",
    "df=df[['Season','TeamID_x','adj_o','adj_d','luck','rank','pyth']]\n",
    "df.columns=['Season','TeamID','adj_o','adj_d','luck','rank','pyth']\n",
    "df.TeamID=df.TeamID.astype('int64')"
   ]
  },
  {
   "cell_type": "code",
   "execution_count": null,
   "metadata": {},
   "outputs": [],
   "source": [
    "df.columns=['Season','TeamID','adj_o','adj_d','luck','rank','adj_em']\n",
    "df.head()"
   ]
  },
  {
   "cell_type": "markdown",
   "metadata": {},
   "source": [
    "# Save the file"
   ]
  },
  {
   "cell_type": "code",
   "execution_count": null,
   "metadata": {},
   "outputs": [],
   "source": [
    "os.chdir(\"/Users/matthewdenko/Documents/march_madness_2021\")\n",
    "df.to_csv('kenpom.csv',index=False)"
   ]
  },
  {
   "cell_type": "code",
   "execution_count": null,
   "metadata": {},
   "outputs": [],
   "source": []
  }
 ],
 "metadata": {
  "kernelspec": {
   "display_name": "Python 3",
   "language": "python",
   "name": "python3"
  },
  "language_info": {
   "codemirror_mode": {
    "name": "ipython",
    "version": 3
   },
   "file_extension": ".py",
   "mimetype": "text/x-python",
   "name": "python",
   "nbconvert_exporter": "python",
   "pygments_lexer": "ipython3",
   "version": "3.7.4"
  }
 },
 "nbformat": 4,
 "nbformat_minor": 4
}
